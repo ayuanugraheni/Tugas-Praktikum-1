{
  "nbformat": 4,
  "nbformat_minor": 0,
  "metadata": {
    "colab": {
      "name": "Untitled0.ipynb",
      "provenance": [],
      "authorship_tag": "ABX9TyNlda8KyiZnKmTIEQOydOGN",
      "include_colab_link": true
    },
    "kernelspec": {
      "name": "python3",
      "display_name": "Python 3"
    },
    "language_info": {
      "name": "python"
    }
  },
  "cells": [
    {
      "cell_type": "markdown",
      "metadata": {
        "id": "view-in-github",
        "colab_type": "text"
      },
      "source": [
        "<a href=\"https://colab.research.google.com/github/ayuanugraheni/Tugas-Praktikum-1/blob/main/tugas%20praktikum%201.ipynb\" target=\"_parent\"><img src=\"https://colab.research.google.com/assets/colab-badge.svg\" alt=\"Open In Colab\"/></a>"
      ]
    },
    {
      "cell_type": "code",
      "metadata": {
        "colab": {
          "base_uri": "https://localhost:8080/"
        },
        "id": "9t_vj_NlUx_P",
        "outputId": "e96e64d9-259a-434d-c42d-03063c0b5d6f"
      },
      "source": [
        "!sudo apt-get install libportaudio2\n",
        "!pip install sounddevice"
      ],
      "execution_count": 19,
      "outputs": [
        {
          "output_type": "stream",
          "text": [
            "Reading package lists... Done\n",
            "Building dependency tree       \n",
            "Reading state information... Done\n",
            "libportaudio2 is already the newest version (19.6.0-1).\n",
            "The following package was automatically installed and is no longer required:\n",
            "  libnvidia-common-460\n",
            "Use 'sudo apt autoremove' to remove it.\n",
            "0 upgraded, 0 newly installed, 0 to remove and 34 not upgraded.\n",
            "Requirement already satisfied: sounddevice in /usr/local/lib/python3.7/dist-packages (0.4.1)\n",
            "Requirement already satisfied: CFFI>=1.0 in /usr/local/lib/python3.7/dist-packages (from sounddevice) (1.14.5)\n",
            "Requirement already satisfied: pycparser in /usr/local/lib/python3.7/dist-packages (from CFFI>=1.0->sounddevice) (2.20)\n"
          ],
          "name": "stdout"
        }
      ]
    },
    {
      "cell_type": "code",
      "metadata": {
        "id": "yrLjfmGsVmvQ"
      },
      "source": [
        "# sampling_lab.py: generate sine wave and save as wave.file\n",
        "# 2021/05/21: initial commit\n",
        "\n",
        "import numpy as np\n",
        "import matplotlib.pyplot as plt\n",
        "import sounddevice as sd\n",
        "from scipy.io import wavfile\n",
        "\n",
        "f = 300             # freq\n",
        "fs = 8000           # sampling frequency\n",
        "dur = 5             # duration in seconds\n",
        "t = np.arange(0, dur, 1.0/fs)\n",
        "y = np.sin(2* np.pi*f*t)\n",
        "\n",
        "# play audio (sin) signal\n",
        "#sd.play(y, fs)\n",
        "\n",
        "# simpan sin wave sebagai wav file\n",
        "wavfile.write('sin_300.wav', fs, y)\n",
        "\n",
        "\n",
        "## Prosedur praktikum 1:\n",
        "#0. Ganti f sesuka anda (fs menyesuaikan) dan denganrkan suara yang dihasilkan\n",
        "#1. Pilih satu nilai f yang anda suka\n",
        "#2. Variasikan fs dengan 5 nilai yang berbeda-beda, simpan sebagai wav files\n",
        "#3. Plot setiap perubahan fs pada langkah 2 dengan axis-x yang pendek\n",
        "\n",
        "## Analisa laporan (maksimal 1 halam termasuk plot)\n",
        "# 1. Apa yang anda dapat simpulkan dari fs yang berubah-ubah? \n",
        "#    (hint: analisa perbedaan plot)"
      ],
      "execution_count": 23,
      "outputs": []
    },
    {
      "cell_type": "code",
      "metadata": {
        "colab": {
          "base_uri": "https://localhost:8080/",
          "height": 298
        },
        "id": "nWVvvkx2YmAs",
        "outputId": "b73fb0f8-be90-47f8-ed59-2df3df945254"
      },
      "source": [
        "# sampling_read_wav: read and plot wav file\n",
        "\n",
        "import numpy as np\n",
        "from scipy.io import wavfile\n",
        "import sounddevice as sd\n",
        "import matplotlib.pyplot as plt\n",
        "\n",
        "[fs, x] = wavfile.read('sin_500.wav')\n",
        "print(\"sampling rate: \", fs)\n",
        "\n",
        "#sd.play(x, fs)\n",
        "plt.plot(x)\n",
        "\n",
        "## prosedur praktikum 2:\n",
        "#0. Ganti file sine_500.wav dengan file anda pada percobaan #1 (write_sin)\n",
        "#1. Ganti file sin_500.wav dengan speech.wav\n",
        "#2. dengarkan y (speech.wav), dengan fs yang berbeda-beda, \n",
        "#   perhatikan perbedaannya (denganrkan dan plot)\n",
        "\n",
        "## analisa (maksimal 1 halaman)\n",
        "#1. Apa yang terjadi ketika memutar wav file dengan fs yang bukan aslinya \n",
        "##  (langkah 1)"
      ],
      "execution_count": 25,
      "outputs": [
        {
          "output_type": "stream",
          "text": [
            "sampling rate:  1000\n"
          ],
          "name": "stdout"
        },
        {
          "output_type": "execute_result",
          "data": {
            "text/plain": [
              "[<matplotlib.lines.Line2D at 0x7f4d2f6cfdd0>]"
            ]
          },
          "metadata": {
            "tags": []
          },
          "execution_count": 25
        },
        {
          "output_type": "display_data",
          "data": {
            "image/png": "[encoded data removed]",
            "text/plain": [
              "<Figure size 432x288 with 1 Axes>"
            ]
          },
          "metadata": {
            "tags": [],
            "needs_background": "light"
          }
        }
      ]
    },
    {
      "cell_type": "code",
      "metadata": {
        "id": "x634HTTWYtOC"
      },
      "source": [
        "# sampling_resample.py: analyze different sampling frequency\n",
        "import librosa\n",
        "import sounddevice as sd\n",
        "\n",
        "[y, sr] = librosa.load('speech.wav', sr=None)\n",
        "sd.play(y, sr)\n",
        "\n",
        "y_8k = librosa.resample(y, sr, 8000)\n",
        "sd.play(y, 8000)\n",
        "\n",
        "## prosedur praktikum 3:\n",
        "#0. dengarkan y dengan fs aslinya\n",
        "#1. Resample y dengan 4 fs yang berbeda, 2 upsample dan 2 downsample\n",
        "#   dengarkan dan plot hasilnya\n",
        "#2. Simpan hasil resample dalam wav file (4 wav files)\n",
        "\n",
        "### Analisa laporan (maksimal 2 halaman termasuk plot)\n",
        "## 1. Apa yang berubah setelah proses resample? Misal sinyal x di resample \n",
        "##     menjadi x'. Apa bedanya x dan x' ? hint:dengarkan dan plot\n",
        "\n",
        "## Analisa praktikum 1, 2, dan 3, digabung dalam 3 halaman pdf\n",
        "## file pdf dan wav digabung dalam format NRP.zip"
      ],
      "execution_count": null,
      "outputs": []
    }
  ]
}